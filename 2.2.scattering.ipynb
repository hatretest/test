{
 "cells": [
  {
   "cell_type": "markdown",
   "metadata": {
    "ein.tags": [
     "worksheet-0"
    ]
   },
   "source": [
    "# Scattering\n",
    "\n",
    "Previously, we saw how to create finite systems.  Now we will create quasi-1d translationally invariant systems and look at their band structures.  As a second step, we will attach such infinite systems as leads to a finite system, thus creating a scattering setup, of which we will calculate the scattering matrix.\n",
    "\n",
    "## Translationally invariant systems"
   ]
  },
  {
   "cell_type": "code",
   "execution_count": 3,
   "metadata": {
    "autoscroll": "json-false",
    "collapsed": false,
    "ein.tags": [
     "worksheet-0"
    ]
   },
   "outputs": [],
   "source": [
    "from numpy import pi,exp,array,arange,sqrt,sin ,cos,real,dot,linalg,eye,transpose,diag,shape,asarray,zeros,imag\n",
    "import kwant\n",
    "import numpy as np\n",
    "from matplotlib.pyplot import ylim,hist\n",
    "import matplotlib.pyplot\n",
    "from matplotlib import pyplot\n",
    "from random import shuffle\n",
    "%matplotlib inline\n",
    "import tinyarray\n",
    "import seaborn\n",
    "\n",
    "sigma_0 = tinyarray.array([[1, 0], [0, 1]])\n",
    "sigma_x = tinyarray.array([[0, 1], [1, 0]])\n",
    "sigma_y = tinyarray.array([[0, -1j], [1j, 0]])\n",
    "sigma_z = tinyarray.array([[1, 0], [0, -1]])"
   ]
  },
  {
   "cell_type": "code",
   "execution_count": 7,
   "metadata": {
    "autoscroll": "json-false",
    "collapsed": false,
    "ein.tags": [
     "worksheet-0"
    ]
   },
   "outputs": [],
   "source": [
    "def make_sys(alpha,t=1,a=1,L=10):        \n",
    "         \n",
    "    def Potential(site,v):\n",
    "           return v*sigma_0\n",
    "\n",
    "    lat = kwant.lattice.square(a)\n",
    "    sys = kwant.Builder()\n",
    "    sys[(lat(x,0) for x in range(L))] = Potential\n",
    "    sys[lat.neighbors()] = -t * sigma_0 - 1j * alpha * sigma_y\n",
    "\n",
    "    InterfaceSites =[lat(0,0)]\n",
    "    \n",
    "    return sys,InterfaceSites"
   ]
  },
  {
   "cell_type": "markdown",
   "metadata": {},
   "source": [
    "Observe how providing a symmetry parameter when creating the `kwant.Builder` object allows to create a translationally invariant system.  A builder with a symmetry will always preserve it.  That's why it is sufficient to add only a single transverse row of sites to create the full infinite system."
   ]
  },
  {
   "cell_type": "code",
   "execution_count": 8,
   "metadata": {
    "autoscroll": "json-false",
    "collapsed": false,
    "ein.tags": [
     "worksheet-0"
    ]
   },
   "outputs": [],
   "source": [
    "#this function mounts a fictitious lead with self energy zero\n",
    "def mount_vlead(sys, vlead_interface, norb=1):\n",
    "    \"\"\"Mounts virtual lead to interfaces provided.\n",
    " \n",
    "    :sys: kwant.builder.Builder\n",
    "        An unfinalized system to mount leads\n",
    "    :vlead_interface: sequence of kwant.builder.Site\n",
    "        Interface of lead\n",
    "    :norb: integer\n",
    "        Number of orbitals in system hamiltonian.\n",
    "    \"\"\"\n",
    "    dim = len(vlead_interface)*norb\n",
    "    zero_array = zeros((dim, dim), dtype=float)\n",
    "    def selfenergy_func(energy,arg=()):\n",
    "         return zero_array\n",
    "\n",
    "    vlead = kwant.builder.SelfEnergyLead(selfenergy_func, vlead_interface)\n",
    "    sys.leads.append(vlead)"
   ]
  },
  {
   "cell_type": "markdown",
   "metadata": {},
   "source": [
    "The convenience function `kwant.plotter.bands` is often handy to plot bandstructure.  If you need to access the actual band structure data (perhaps to plot it in a different way) you may use `kwant.physics.Bands`."
   ]
  },
  {
   "cell_type": "code",
   "execution_count": 15,
   "metadata": {
    "autoscroll": "json-false",
    "collapsed": false,
    "ein.tags": [
     "worksheet-0"
    ]
   },
   "outputs": [
    {
     "data": {
      "image/png": "[encoded data removed]",
      "text/plain": [
       "<matplotlib.figure.Figure at 0x7fe95c81def0>"
      ]
     },
     "metadata": {},
     "output_type": "display_data"
    }
   ],
   "source": [
    "\n",
    "sys,InterfaceSites=make_sys(alpha=0.5,L=100)\n",
    "kwant.plot(sys)\n",
    "pyplot.show('False')"
   ]
  },
  {
   "cell_type": "markdown",
   "metadata": {},
   "source": [
    "We see cosine-shaped bands that for low energies match the parabolic bands of the continuum model.  As expected (see previous notebook) the tight-binding approximation breaks down at high energies."
   ]
  },
  {
   "cell_type": "code",
   "execution_count": 16,
   "metadata": {
    "autoscroll": "json-false",
    "collapsed": false,
    "ein.tags": [
     "worksheet-0"
    ]
   },
   "outputs": [],
   "source": [
    "#add  a fictitious lead to the sites defined in the list InterFaceSite \n",
    "mount_vlead(sys,InterfaceSites,norb=2)\n",
    "sys=sys.finalized()\n"
   ]
  },
  {
   "cell_type": "code",
   "execution_count": 18,
   "metadata": {
    "autoscroll": "json-false",
    "collapsed": false,
    "ein.tags": [
     "worksheet-0"
    ]
   },
   "outputs": [],
   "source": [
    "MyList=[]\n",
    "G_mat=zeros((2,2),float)\n",
    "X1,X2=[],[]\n",
    "energy=-1.8#-3.65\n",
    "for i in range(-1000,1001):\n",
    "       \n",
    "       v=i*0.00006\n",
    "       GreenFunction=kwant.greens_function(sys,energy=energy,args=[v],out_leads=[0], in_leads=[0]).data\n",
    "      \n",
    "       X1.append(GreenFunction[1][1].real) \n",
    "\n",
    "       X2.append(GreenFunction[0][0].real)"
   ]
  },
  {
   "cell_type": "markdown",
   "metadata": {},
   "source": [
    "The following function will plot transmission and reflection from lead 0 to lead 1 as a function of Fermi energy."
   ]
  },
  {
   "cell_type": "code",
   "execution_count": 19,
   "metadata": {
    "autoscroll": "json-false",
    "collapsed": false,
    "ein.tags": [
     "worksheet-0"
    ]
   },
   "outputs": [
    {
     "data": {
      "image/png": "[encoded data removed]",
      "text/plain": [
       "<matplotlib.figure.Figure at 0x7fe95c05f9e8>"
      ]
     },
     "metadata": {},
     "output_type": "display_data"
    }
   ],
   "source": [
    "Y0,X0,T0= pyplot.hist(X1,bins=30,range=(-3.5,1.5),normed=True,linewidth=0.11)\n",
    "Y0,X0,T0= pyplot.hist(X2,bins=30,range=(-3.5,1.5),normed=True,linewidth=0.11)"
   ]
  }
 ],
 "metadata": {
  "anaconda-cloud": {},
  "kernelspec": {
   "display_name": "Python [default]",
   "language": "python",
   "name": "python3"
  },
  "language_info": {
   "codemirror_mode": {
    "name": "ipython",
    "version": 3
   },
   "file_extension": ".py",
   "mimetype": "text/x-python",
   "name": "python",
   "nbconvert_exporter": "python",
   "pygments_lexer": "ipython3",
   "version": "3.4.5"
  }
 },
 "nbformat": 4,
 "nbformat_minor": 0
}
